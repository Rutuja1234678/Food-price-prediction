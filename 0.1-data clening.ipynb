{
 "cells": [
  {
   "cell_type": "code",
   "execution_count": 9,
   "id": "4d4713ac-48f0-41cb-9b17-65d97625fecb",
   "metadata": {},
   "outputs": [],
   "source": [
    "# import libreris\n",
    "import numpy as np\n",
    "import pandas as pd"
   ]
  },
  {
   "cell_type": "code",
   "execution_count": 10,
   "id": "c68eb285-f2e8-4e16-80ac-47c8facb8fee",
   "metadata": {},
   "outputs": [
    {
     "data": {
      "text/html": [
       "<div>\n",
       "<style scoped>\n",
       "    .dataframe tbody tr th:only-of-type {\n",
       "        vertical-align: middle;\n",
       "    }\n",
       "\n",
       "    .dataframe tbody tr th {\n",
       "        vertical-align: top;\n",
       "    }\n",
       "\n",
       "    .dataframe thead th {\n",
       "        text-align: right;\n",
       "    }\n",
       "</style>\n",
       "<table border=\"1\" class=\"dataframe\">\n",
       "  <thead>\n",
       "    <tr style=\"text-align: right;\">\n",
       "      <th></th>\n",
       "      <th>Countries</th>\n",
       "      <th>Milk, cheese, and eggs prices, 2017</th>\n",
       "      <th>Global rank</th>\n",
       "      <th>Available data</th>\n",
       "    </tr>\n",
       "  </thead>\n",
       "  <tbody>\n",
       "    <tr>\n",
       "      <th>0</th>\n",
       "      <td>South Korea</td>\n",
       "      <td>227.69</td>\n",
       "      <td>1</td>\n",
       "      <td>2017 - 2017</td>\n",
       "    </tr>\n",
       "    <tr>\n",
       "      <th>1</th>\n",
       "      <td>Liberia</td>\n",
       "      <td>213.25</td>\n",
       "      <td>2</td>\n",
       "      <td>2017 - 2017</td>\n",
       "    </tr>\n",
       "    <tr>\n",
       "      <th>2</th>\n",
       "      <td>Montserrat</td>\n",
       "      <td>209.46</td>\n",
       "      <td>3</td>\n",
       "      <td>2017 - 2017</td>\n",
       "    </tr>\n",
       "    <tr>\n",
       "      <th>3</th>\n",
       "      <td>Bahamas</td>\n",
       "      <td>204.57</td>\n",
       "      <td>4</td>\n",
       "      <td>2017 - 2017</td>\n",
       "    </tr>\n",
       "    <tr>\n",
       "      <th>4</th>\n",
       "      <td>C.A. Republic</td>\n",
       "      <td>197.98</td>\n",
       "      <td>5</td>\n",
       "      <td>2017 - 2017</td>\n",
       "    </tr>\n",
       "    <tr>\n",
       "      <th>...</th>\n",
       "      <td>...</td>\n",
       "      <td>...</td>\n",
       "      <td>...</td>\n",
       "      <td>...</td>\n",
       "    </tr>\n",
       "    <tr>\n",
       "      <th>162</th>\n",
       "      <td>Poland</td>\n",
       "      <td>67.68</td>\n",
       "      <td>163</td>\n",
       "      <td>2017 - 2017</td>\n",
       "    </tr>\n",
       "    <tr>\n",
       "      <th>163</th>\n",
       "      <td>Belarus</td>\n",
       "      <td>65.82</td>\n",
       "      <td>164</td>\n",
       "      <td>2017 - 2017</td>\n",
       "    </tr>\n",
       "    <tr>\n",
       "      <th>164</th>\n",
       "      <td>Ukraine</td>\n",
       "      <td>62.54</td>\n",
       "      <td>165</td>\n",
       "      <td>2017 - 2017</td>\n",
       "    </tr>\n",
       "    <tr>\n",
       "      <th>165</th>\n",
       "      <td>Egypt</td>\n",
       "      <td>60.89</td>\n",
       "      <td>166</td>\n",
       "      <td>2017 - 2017</td>\n",
       "    </tr>\n",
       "    <tr>\n",
       "      <th>166</th>\n",
       "      <td>Tunisia</td>\n",
       "      <td>55.91</td>\n",
       "      <td>167</td>\n",
       "      <td>2017 - 2017</td>\n",
       "    </tr>\n",
       "  </tbody>\n",
       "</table>\n",
       "<p>167 rows × 4 columns</p>\n",
       "</div>"
      ],
      "text/plain": [
       "         Countries  Milk, cheese, and eggs prices, 2017  Global rank  \\\n",
       "0      South Korea                               227.69            1   \n",
       "1          Liberia                               213.25            2   \n",
       "2       Montserrat                               209.46            3   \n",
       "3          Bahamas                               204.57            4   \n",
       "4    C.A. Republic                               197.98            5   \n",
       "..             ...                                  ...          ...   \n",
       "162         Poland                                67.68          163   \n",
       "163        Belarus                                65.82          164   \n",
       "164        Ukraine                                62.54          165   \n",
       "165          Egypt                                60.89          166   \n",
       "166        Tunisia                                55.91          167   \n",
       "\n",
       "    Available data  \n",
       "0      2017 - 2017  \n",
       "1      2017 - 2017  \n",
       "2      2017 - 2017  \n",
       "3      2017 - 2017  \n",
       "4      2017 - 2017  \n",
       "..             ...  \n",
       "162    2017 - 2017  \n",
       "163    2017 - 2017  \n",
       "164    2017 - 2017  \n",
       "165    2017 - 2017  \n",
       "166    2017 - 2017  \n",
       "\n",
       "[167 rows x 4 columns]"
      ]
     },
     "execution_count": 10,
     "metadata": {},
     "output_type": "execute_result"
    }
   ],
   "source": [
    "# import dataset\n",
    "df = pd.read_csv(\"Milk cheese and eggs prices.csv\")\n",
    "df"
   ]
  },
  {
   "cell_type": "code",
   "execution_count": 5,
   "id": "7cb4bc3d-2557-4b29-919e-526a0ebfe6a7",
   "metadata": {},
   "outputs": [
    {
     "name": "stdout",
     "output_type": "stream",
     "text": [
      "<class 'pandas.core.frame.DataFrame'>\n",
      "RangeIndex: 167 entries, 0 to 166\n",
      "Data columns (total 4 columns):\n",
      " #   Column                               Non-Null Count  Dtype  \n",
      "---  ------                               --------------  -----  \n",
      " 0   Countries                            167 non-null    object \n",
      " 1   Milk, cheese, and eggs prices, 2017  167 non-null    float64\n",
      " 2   Global rank                          167 non-null    int64  \n",
      " 3   Available data                       167 non-null    object \n",
      "dtypes: float64(1), int64(1), object(2)\n",
      "memory usage: 5.3+ KB\n",
      "None\n"
     ]
    }
   ],
   "source": [
    "print(df.info())"
   ]
  },
  {
   "cell_type": "code",
   "execution_count": 12,
   "id": "14d45342-30ca-4363-85a8-508b2f82e3e0",
   "metadata": {},
   "outputs": [
    {
     "data": {
      "text/html": [
       "<div>\n",
       "<style scoped>\n",
       "    .dataframe tbody tr th:only-of-type {\n",
       "        vertical-align: middle;\n",
       "    }\n",
       "\n",
       "    .dataframe tbody tr th {\n",
       "        vertical-align: top;\n",
       "    }\n",
       "\n",
       "    .dataframe thead th {\n",
       "        text-align: right;\n",
       "    }\n",
       "</style>\n",
       "<table border=\"1\" class=\"dataframe\">\n",
       "  <thead>\n",
       "    <tr style=\"text-align: right;\">\n",
       "      <th></th>\n",
       "      <th>Milk, cheese, and eggs prices, 2017</th>\n",
       "      <th>Global rank</th>\n",
       "    </tr>\n",
       "  </thead>\n",
       "  <tbody>\n",
       "    <tr>\n",
       "      <th>count</th>\n",
       "      <td>167.000000</td>\n",
       "      <td>167.00000</td>\n",
       "    </tr>\n",
       "    <tr>\n",
       "      <th>mean</th>\n",
       "      <td>116.792335</td>\n",
       "      <td>84.00000</td>\n",
       "    </tr>\n",
       "    <tr>\n",
       "      <th>std</th>\n",
       "      <td>34.164710</td>\n",
       "      <td>48.35287</td>\n",
       "    </tr>\n",
       "    <tr>\n",
       "      <th>min</th>\n",
       "      <td>55.910000</td>\n",
       "      <td>1.00000</td>\n",
       "    </tr>\n",
       "    <tr>\n",
       "      <th>25%</th>\n",
       "      <td>93.625000</td>\n",
       "      <td>42.50000</td>\n",
       "    </tr>\n",
       "    <tr>\n",
       "      <th>50%</th>\n",
       "      <td>107.890000</td>\n",
       "      <td>84.00000</td>\n",
       "    </tr>\n",
       "    <tr>\n",
       "      <th>75%</th>\n",
       "      <td>137.525000</td>\n",
       "      <td>125.50000</td>\n",
       "    </tr>\n",
       "    <tr>\n",
       "      <th>max</th>\n",
       "      <td>227.690000</td>\n",
       "      <td>167.00000</td>\n",
       "    </tr>\n",
       "  </tbody>\n",
       "</table>\n",
       "</div>"
      ],
      "text/plain": [
       "       Milk, cheese, and eggs prices, 2017  Global rank\n",
       "count                           167.000000    167.00000\n",
       "mean                            116.792335     84.00000\n",
       "std                              34.164710     48.35287\n",
       "min                              55.910000      1.00000\n",
       "25%                              93.625000     42.50000\n",
       "50%                             107.890000     84.00000\n",
       "75%                             137.525000    125.50000\n",
       "max                             227.690000    167.00000"
      ]
     },
     "execution_count": 12,
     "metadata": {},
     "output_type": "execute_result"
    }
   ],
   "source": [
    "df.describe()"
   ]
  },
  {
   "cell_type": "code",
   "execution_count": 16,
   "id": "9b7abd9e-3352-4593-9c1b-399993cad4f9",
   "metadata": {},
   "outputs": [],
   "source": [
    "#Rename Columns for Clarity\n",
    "df.columns = ['Country', 'Price_2017', 'Global_Rank', 'Available_Data']"
   ]
  },
  {
   "cell_type": "code",
   "execution_count": 17,
   "id": "f9683ec2-74b3-484e-b744-be8d92c9bd89",
   "metadata": {},
   "outputs": [],
   "source": [
    "#Drop Irrelevant Column\n",
    "df.drop(columns=['Available_Data'], inplace=True)"
   ]
  },
  {
   "cell_type": "code",
   "execution_count": 18,
   "id": "c790cba0-c3ff-46db-ba39-a3fb49e98d86",
   "metadata": {},
   "outputs": [
    {
     "name": "stdout",
     "output_type": "stream",
     "text": [
      "Country        0\n",
      "Price_2017     0\n",
      "Global_Rank    0\n",
      "dtype: int64\n"
     ]
    }
   ],
   "source": [
    "#Check for Missing Values\n",
    "print(df.isnull().sum())"
   ]
  },
  {
   "cell_type": "code",
   "execution_count": 19,
   "id": "e58c1972-ee54-42a6-8f54-c11ec5dccc88",
   "metadata": {},
   "outputs": [],
   "source": [
    "# Drop Duplicate Rows (if any)\n",
    "df = df.drop_duplicates()"
   ]
  },
  {
   "cell_type": "code",
   "execution_count": 20,
   "id": "53b036e0-bde9-499e-b7ff-9f370cc62868",
   "metadata": {},
   "outputs": [
    {
     "name": "stdout",
     "output_type": "stream",
     "text": [
      "         Country  Price_2017  Global_Rank\n",
      "0    South Korea      227.69            1\n",
      "1        Liberia      213.25            2\n",
      "2     Montserrat      209.46            3\n",
      "3        Bahamas      204.57            4\n",
      "4  C.A. Republic      197.98            5\n"
     ]
    }
   ],
   "source": [
    "print(df.head())"
   ]
  },
  {
   "cell_type": "code",
   "execution_count": 21,
   "id": "5241cf9a-040a-445d-9ecf-e9267fb747e6",
   "metadata": {},
   "outputs": [],
   "source": [
    "#Save the Cleaned Dataset\n",
    "df.to_csv(\"cleaned_food_prices.csv\", index=False)"
   ]
  },
  {
   "cell_type": "code",
   "execution_count": null,
   "id": "0dfd952f-1489-4d28-9c8a-4992f28916da",
   "metadata": {},
   "outputs": [],
   "source": []
  }
 ],
 "metadata": {
  "kernelspec": {
   "display_name": "Python [conda env:base] *",
   "language": "python",
   "name": "conda-base-py"
  },
  "language_info": {
   "codemirror_mode": {
    "name": "ipython",
    "version": 3
   },
   "file_extension": ".py",
   "mimetype": "text/x-python",
   "name": "python",
   "nbconvert_exporter": "python",
   "pygments_lexer": "ipython3",
   "version": "3.12.7"
  }
 },
 "nbformat": 4,
 "nbformat_minor": 5
}
